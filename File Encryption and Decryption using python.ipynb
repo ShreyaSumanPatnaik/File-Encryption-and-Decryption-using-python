{
 "cells": [
  {
   "cell_type": "code",
   "execution_count": 4,
   "id": "3483502d",
   "metadata": {},
   "outputs": [
    {
     "name": "stdout",
     "output_type": "stream",
     "text": [
      "Requirement already satisfied: cryptography in c:\\users\\subhakar\\anaconda3\\lib\\site-packages (37.0.1)\n",
      "Requirement already satisfied: cffi>=1.12 in c:\\users\\subhakar\\anaconda3\\lib\\site-packages (from cryptography) (1.15.1)\n",
      "Requirement already satisfied: pycparser in c:\\users\\subhakar\\anaconda3\\lib\\site-packages (from cffi>=1.12->cryptography) (2.21)\n",
      "Note: you may need to restart the kernel to use updated packages.\n"
     ]
    }
   ],
   "source": [
    "pip install cryptography\n"
   ]
  },
  {
   "cell_type": "code",
   "execution_count": 5,
   "id": "3d656bf3",
   "metadata": {},
   "outputs": [
    {
     "name": "stdout",
     "output_type": "stream",
     "text": [
      "Enter the name of the file to create (e.g., example.txt): secret.txt\n",
      "Enter the content to be written into the file: Hi, this is a secret message!\n",
      "File 'secret.txt' created with content:\n",
      "Hi, this is a secret message!\n",
      "Enter the name of the file to encrypt (e.g., example.txt): secret.txt\n",
      "File 'secret.txt' has been encrypted and saved as 'secret.txt.encrypted'.\n",
      "Enter the name of the file to decrypt (e.g., example.txt.encrypted): secret.txt.encrypted\n",
      "File 'secret.txt.encrypted' has been decrypted and saved as 'secret.txt.encrypted.decrypted'.\n",
      "Decrypted content:\n",
      " Hi, this is a secret message!\n",
      "Encryption key generated and saved as 'secret.key'.\n"
     ]
    }
   ],
   "source": [
    "from cryptography.fernet import Fernet\n",
    "\n",
    "# Generate a key and save it into a file\n",
    "def generate_key():\n",
    "    key = Fernet.generate_key()\n",
    "    with open(\"secret.key\", \"wb\") as key_file:\n",
    "        key_file.write(key)\n",
    "    print(\"Encryption key generated and saved as 'secret.key'.\")\n",
    "\n",
    "# Load the previously generated key\n",
    "def load_key():\n",
    "    return open(\"secret.key\", \"rb\").read()\n",
    "\n",
    "# Encrypt a file\n",
    "def encrypt_file(file_name):\n",
    "    key = load_key()\n",
    "    fernet = Fernet(key)\n",
    "    \n",
    "    with open(file_name, \"rb\") as file:\n",
    "        file_data = file.read()\n",
    "    \n",
    "    encrypted_data = fernet.encrypt(file_data)\n",
    "    \n",
    "    encrypted_file_name = f\"{file_name}.encrypted\"\n",
    "    with open(encrypted_file_name, \"wb\") as file:\n",
    "        file.write(encrypted_data)\n",
    "    \n",
    "    # Print the encrypted data for Jupyter output\n",
    "    print(f\"File '{file_name}' has been encrypted and saved as '{encrypted_file_name}'.\")\n",
    "\n",
    "# Decrypt a file\n",
    "def decrypt_file(encrypted_file_name):\n",
    "    key = load_key()\n",
    "    fernet = Fernet(key)\n",
    "    \n",
    "    with open(encrypted_file_name, \"rb\") as file:\n",
    "        encrypted_data = file.read()\n",
    "    \n",
    "    decrypted_data = fernet.decrypt(encrypted_data)\n",
    "    \n",
    "    decrypted_file_name = f\"{encrypted_file_name}.decrypted\"\n",
    "    with open(decrypted_file_name, \"wb\") as file:\n",
    "        file.write(decrypted_data)\n",
    "    \n",
    "    # Print the decrypted data for Jupyter output\n",
    "    print(f\"File '{encrypted_file_name}' has been decrypted and saved as '{decrypted_file_name}'.\")\n",
    "    print(\"Decrypted content:\\n\", decrypted_data.decode())\n",
    "\n",
    "    generate_key()\n",
    "    \n",
    "    # Take user input for the file name and content\n",
    "file_name = input(\"Enter the name of the file to create (e.g., example.txt): \")\n",
    "file_content = input(\"Enter the content to be written into the file: \")\n",
    "\n",
    "# Create the file with the user-provided name and content\n",
    "with open(file_name, \"w\") as file:\n",
    "    file.write(file_content)\n",
    "\n",
    "print(f\"File '{file_name}' created with content:\\n{file_content}\")\n",
    "\n",
    "\n",
    "file_to_encrypt = input(\"Enter the name of the file to encrypt (e.g., example.txt): \")\n",
    "encrypt_file(file_to_encrypt)\n",
    "\n",
    "\n",
    "file_to_decrypt = input(\"Enter the name of the file to decrypt (e.g., example.txt.encrypted): \")\n",
    "decrypt_file(file_to_decrypt)\n",
    "\n"
   ]
  },
  {
   "cell_type": "code",
   "execution_count": null,
   "id": "e288be68",
   "metadata": {},
   "outputs": [],
   "source": []
  }
 ],
 "metadata": {
  "kernelspec": {
   "display_name": "Python 3 (ipykernel)",
   "language": "python",
   "name": "python3"
  },
  "language_info": {
   "codemirror_mode": {
    "name": "ipython",
    "version": 3
   },
   "file_extension": ".py",
   "mimetype": "text/x-python",
   "name": "python",
   "nbconvert_exporter": "python",
   "pygments_lexer": "ipython3",
   "version": "3.9.13"
  }
 },
 "nbformat": 4,
 "nbformat_minor": 5
}
